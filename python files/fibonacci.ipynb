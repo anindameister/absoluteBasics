{
  "nbformat": 4,
  "nbformat_minor": 0,
  "metadata": {
    "colab": {
      "name": "fibonacci.ipynb",
      "provenance": [],
      "collapsed_sections": []
    },
    "kernelspec": {
      "name": "python3",
      "display_name": "Python 3"
    }
  },
  "cells": [
    {
      "cell_type": "code",
      "metadata": {
        "id": "nI9peQi6Az4M",
        "colab_type": "code",
        "colab": {
          "base_uri": "https://localhost:8080/",
          "height": 521
        },
        "outputId": "e2beb997-e19d-4a1a-e569-3fad13b30998"
      },
      "source": [
        "# WAP to print first 30 multiples of 5\n",
        "\n",
        "for i in range(1,31):\n",
        "  print(i,\"* 5 =\",i*5)"
      ],
      "execution_count": null,
      "outputs": [
        {
          "output_type": "stream",
          "text": [
            "1 * 5 = 5\n",
            "2 * 5 = 10\n",
            "3 * 5 = 15\n",
            "4 * 5 = 20\n",
            "5 * 5 = 25\n",
            "6 * 5 = 30\n",
            "7 * 5 = 35\n",
            "8 * 5 = 40\n",
            "9 * 5 = 45\n",
            "10 * 5 = 50\n",
            "11 * 5 = 55\n",
            "12 * 5 = 60\n",
            "13 * 5 = 65\n",
            "14 * 5 = 70\n",
            "15 * 5 = 75\n",
            "16 * 5 = 80\n",
            "17 * 5 = 85\n",
            "18 * 5 = 90\n",
            "19 * 5 = 95\n",
            "20 * 5 = 100\n",
            "21 * 5 = 105\n",
            "22 * 5 = 110\n",
            "23 * 5 = 115\n",
            "24 * 5 = 120\n",
            "25 * 5 = 125\n",
            "26 * 5 = 130\n",
            "27 * 5 = 135\n",
            "28 * 5 = 140\n",
            "29 * 5 = 145\n",
            "30 * 5 = 150\n"
          ],
          "name": "stdout"
        }
      ]
    },
    {
      "cell_type": "code",
      "metadata": {
        "id": "z-oO09sEHOmj",
        "colab_type": "code",
        "colab": {
          "base_uri": "https://localhost:8080/",
          "height": 34
        },
        "outputId": "ead02614-d02e-4b01-9d10-9586fb1cd069"
      },
      "source": [
        "def fibonacci(n):\n",
        "    a = 0\n",
        "    b = 1\n",
        "    if n <= 0:\n",
        "        print(\"Incorrect input\")\n",
        "    elif n == 1:\n",
        "        return b\n",
        "    else:\n",
        "        for i in range(2,n):\n",
        "            c = a + b\n",
        "            a = b\n",
        "            b = c\n",
        "        return b\n",
        " \n",
        "# Driver Program\n",
        " \n",
        "print(fibonacci(9))"
      ],
      "execution_count": null,
      "outputs": [
        {
          "output_type": "stream",
          "text": [
            "21\n"
          ],
          "name": "stdout"
        }
      ]
    },
    {
      "cell_type": "code",
      "metadata": {
        "id": "q9mgi6L9HROk",
        "colab_type": "code",
        "colab": {
          "base_uri": "https://localhost:8080/",
          "height": 168
        },
        "outputId": "0f128f0d-1544-4739-f399-4f2baba79aa4"
      },
      "source": [
        "\n",
        "print(\"No.1 integer in Fibonacci is 0\")\n",
        "print(\"No.2 integer in Fibonacci is 1\")\n",
        "for i in range(3,10):\n",
        "  print(\"No.\",i,\"integer in Fibonacci is\",i-2)"
      ],
      "execution_count": null,
      "outputs": [
        {
          "output_type": "stream",
          "text": [
            "No.1 integer in Fibonacci is 0\n",
            "No.2 integer in Fibonacci is 1\n",
            "No. 3 integer in Fibonacci is 1\n",
            "No. 4 integer in Fibonacci is 2\n",
            "No. 5 integer in Fibonacci is 3\n",
            "No. 6 integer in Fibonacci is 4\n",
            "No. 7 integer in Fibonacci is 5\n",
            "No. 8 integer in Fibonacci is 6\n",
            "No. 9 integer in Fibonacci is 7\n"
          ],
          "name": "stdout"
        }
      ]
    },
    {
      "cell_type": "code",
      "metadata": {
        "id": "W4G_vC9_hffR",
        "colab_type": "code",
        "colab": {
          "base_uri": "https://localhost:8080/",
          "height": 185
        },
        "outputId": "bba3c078-1cc0-44bb-9bb1-ab79fb2d137d"
      },
      "source": [
        "a=0\n",
        "b=1\n",
        "c=a+b\n",
        "d=b+c\n",
        "e=c+d\n",
        "f=d+e\n",
        "g=e+f\n",
        "h=f+g\n",
        "i=g+h\n",
        "j=h+i\n",
        "\n",
        "print(a)\n",
        "print(b)\n",
        "print(c)\n",
        "print(d)\n",
        "print(e)\n",
        "print(f)\n",
        "print(g)\n",
        "print(h)\n",
        "print(i)\n",
        "print(j)"
      ],
      "execution_count": null,
      "outputs": [
        {
          "output_type": "stream",
          "text": [
            "0\n",
            "1\n",
            "1\n",
            "2\n",
            "3\n",
            "5\n",
            "8\n",
            "13\n",
            "21\n",
            "34\n"
          ],
          "name": "stdout"
        }
      ]
    },
    {
      "cell_type": "code",
      "metadata": {
        "id": "qoOsqW1Ljbvj",
        "colab_type": "code",
        "colab": {
          "base_uri": "https://localhost:8080/",
          "height": 218
        },
        "outputId": "42bdf893-2f06-4d92-b7f2-4a604fa071e2"
      },
      "source": [
        "myList=['a','b','c','d','e','f','g','h','i','j','k','l','m','n','o','p','q','r']\n",
        "\n",
        "myList[0]=0\n",
        "myList[1]=1\n",
        "print(\"No. 1 from Fibonacci series is \",myList[0])\n",
        "print(\"No. 2 from Fibonacci series is \",myList[1])\n",
        "for i in range(2,len(myList)):\n",
        "  myList[i]=myList[i-1]+myList[i-2]\n",
        "  print(\"No.\",i+1,\"from Fibonacci series is \",myList[i])"
      ],
      "execution_count": null,
      "outputs": [
        {
          "output_type": "stream",
          "text": [
            "No. 1 from Fibonacci series is  0\n",
            "No. 2 from Fibonacci series is  1\n",
            "No. 3 from Fibonacci series is  1\n",
            "No. 4 from Fibonacci series is  2\n",
            "No. 5 from Fibonacci series is  3\n",
            "No. 6 from Fibonacci series is  5\n",
            "No. 7 from Fibonacci series is  8\n",
            "No. 8 from Fibonacci series is  13\n",
            "No. 9 from Fibonacci series is  21\n",
            "No. 10 from Fibonacci series is  34\n",
            "No. 11 from Fibonacci series is  55\n",
            "No. 12 from Fibonacci series is  89\n"
          ],
          "name": "stdout"
        }
      ]
    },
    {
      "cell_type": "code",
      "metadata": {
        "id": "ZQYkIViElAfQ",
        "colab_type": "code",
        "colab": {
          "base_uri": "https://localhost:8080/",
          "height": 34
        },
        "outputId": "e0f70a90-9fa4-43f4-bc22-812d483fdac0"
      },
      "source": [
        "myList=[]\n",
        "for j in range(1,11):\n",
        "  \n",
        "  myList.append('a'*j)\n",
        "\n",
        "\n",
        "print(myList)"
      ],
      "execution_count": null,
      "outputs": [
        {
          "output_type": "stream",
          "text": [
            "['a', 'aa', 'aaa', 'aaaa', 'aaaaa', 'aaaaaa', 'aaaaaaa', 'aaaaaaaa', 'aaaaaaaaa', 'aaaaaaaaaa']\n"
          ],
          "name": "stdout"
        }
      ]
    },
    {
      "cell_type": "code",
      "metadata": {
        "id": "xJf3DEGJnzLG",
        "colab_type": "code",
        "colab": {
          "base_uri": "https://localhost:8080/",
          "height": 34
        },
        "outputId": "55b19d73-a9df-4819-def2-84bf2ac14f8e"
      },
      "source": [
        "print('t'*5)"
      ],
      "execution_count": null,
      "outputs": [
        {
          "output_type": "stream",
          "text": [
            "ttttt\n"
          ],
          "name": "stdout"
        }
      ]
    },
    {
      "cell_type": "code",
      "metadata": {
        "id": "PFPgQp7To24e",
        "colab_type": "code",
        "colab": {
          "base_uri": "https://localhost:8080/",
          "height": 840
        },
        "outputId": "4f90a768-b54a-4544-cbfe-5ad3921e2a96"
      },
      "source": [
        "myList=[]\n",
        "for j in range(1,50):\n",
        "  \n",
        "  myList.append('a'*j)\n",
        "\n",
        "myList[0]=0\n",
        "myList[1]=1\n",
        "print(\"No. 1 from Fibonacci series is \",myList[0])\n",
        "print(\"No. 2 from Fibonacci series is \",myList[1])\n",
        "for i in range(2,len(myList)):\n",
        "  myList[i]=myList[i-1]+myList[i-2]\n",
        "  print(\"No.\",i+1,\"from Fibonacci series is \",myList[i])"
      ],
      "execution_count": null,
      "outputs": [
        {
          "output_type": "stream",
          "text": [
            "No. 1 from Fibonacci series is  0\n",
            "No. 2 from Fibonacci series is  1\n",
            "No. 3 from Fibonacci series is  1\n",
            "No. 4 from Fibonacci series is  2\n",
            "No. 5 from Fibonacci series is  3\n",
            "No. 6 from Fibonacci series is  5\n",
            "No. 7 from Fibonacci series is  8\n",
            "No. 8 from Fibonacci series is  13\n",
            "No. 9 from Fibonacci series is  21\n",
            "No. 10 from Fibonacci series is  34\n",
            "No. 11 from Fibonacci series is  55\n",
            "No. 12 from Fibonacci series is  89\n",
            "No. 13 from Fibonacci series is  144\n",
            "No. 14 from Fibonacci series is  233\n",
            "No. 15 from Fibonacci series is  377\n",
            "No. 16 from Fibonacci series is  610\n",
            "No. 17 from Fibonacci series is  987\n",
            "No. 18 from Fibonacci series is  1597\n",
            "No. 19 from Fibonacci series is  2584\n",
            "No. 20 from Fibonacci series is  4181\n",
            "No. 21 from Fibonacci series is  6765\n",
            "No. 22 from Fibonacci series is  10946\n",
            "No. 23 from Fibonacci series is  17711\n",
            "No. 24 from Fibonacci series is  28657\n",
            "No. 25 from Fibonacci series is  46368\n",
            "No. 26 from Fibonacci series is  75025\n",
            "No. 27 from Fibonacci series is  121393\n",
            "No. 28 from Fibonacci series is  196418\n",
            "No. 29 from Fibonacci series is  317811\n",
            "No. 30 from Fibonacci series is  514229\n",
            "No. 31 from Fibonacci series is  832040\n",
            "No. 32 from Fibonacci series is  1346269\n",
            "No. 33 from Fibonacci series is  2178309\n",
            "No. 34 from Fibonacci series is  3524578\n",
            "No. 35 from Fibonacci series is  5702887\n",
            "No. 36 from Fibonacci series is  9227465\n",
            "No. 37 from Fibonacci series is  14930352\n",
            "No. 38 from Fibonacci series is  24157817\n",
            "No. 39 from Fibonacci series is  39088169\n",
            "No. 40 from Fibonacci series is  63245986\n",
            "No. 41 from Fibonacci series is  102334155\n",
            "No. 42 from Fibonacci series is  165580141\n",
            "No. 43 from Fibonacci series is  267914296\n",
            "No. 44 from Fibonacci series is  433494437\n",
            "No. 45 from Fibonacci series is  701408733\n",
            "No. 46 from Fibonacci series is  1134903170\n",
            "No. 47 from Fibonacci series is  1836311903\n",
            "No. 48 from Fibonacci series is  2971215073\n",
            "No. 49 from Fibonacci series is  4807526976\n"
          ],
          "name": "stdout"
        }
      ]
    },
    {
      "cell_type": "code",
      "metadata": {
        "id": "aawvkaOxJa8-",
        "colab_type": "code",
        "colab": {}
      },
      "source": [
        ""
      ],
      "execution_count": null,
      "outputs": []
    }
  ]
}