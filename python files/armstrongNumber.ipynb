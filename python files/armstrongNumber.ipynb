{
  "nbformat": 4,
  "nbformat_minor": 0,
  "metadata": {
    "colab": {
      "name": "armstrongNumber.ipynb",
      "provenance": []
    },
    "kernelspec": {
      "name": "python3",
      "display_name": "Python 3"
    }
  },
  "cells": [
    {
      "cell_type": "code",
      "metadata": {
        "id": "E_NcdBesIHCu",
        "colab_type": "code",
        "colab": {
          "base_uri": "https://localhost:8080/",
          "height": 50
        },
        "outputId": "dc333eb0-0b92-4003-8a9d-3d64896b47de"
      },
      "source": [
        "userInputoriginal=int(input(\"enter a number to check if it's armstrong or not:\"))\n",
        "\n",
        "userInput=str(userInputoriginal)\n",
        "\n",
        "userInput=list(userInput)\n",
        "\n",
        "\n",
        "\n",
        "lengthUserInput=len(userInput)\n",
        "\n",
        "newList=[]\n",
        "for i in range(0,len(userInput)):\n",
        "  userInput[i]=int(userInput[i])\n",
        "  userInput[i]=pow(userInput[i], 3)\n",
        "  newList.append(userInput[i])\n",
        "  \n",
        "\n",
        "summed=sum(newList)\n",
        "if userInputoriginal==summed:\n",
        "  print(\"congrats, you have chosen a armstrong number\")\n",
        "else:\n",
        "  print(\"not a armstrong number\")\n",
        "\n",
        "  \n",
        "\n",
        "\n",
        "\n",
        "\n"
      ],
      "execution_count": 21,
      "outputs": [
        {
          "output_type": "stream",
          "text": [
            "enter a number to check if it's armstrong or not:408\n",
            "not a armstrong number\n"
          ],
          "name": "stdout"
        }
      ]
    },
    {
      "cell_type": "code",
      "metadata": {
        "id": "aHPHUbQzLO8q",
        "colab_type": "code",
        "colab": {}
      },
      "source": [
        ""
      ],
      "execution_count": null,
      "outputs": []
    }
  ]
}