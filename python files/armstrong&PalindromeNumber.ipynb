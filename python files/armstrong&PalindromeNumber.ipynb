{
  "nbformat": 4,
  "nbformat_minor": 0,
  "metadata": {
    "colab": {
      "name": "armstrong&PalindromeNumber.ipynb",
      "provenance": []
    },
    "kernelspec": {
      "name": "python3",
      "display_name": "Python 3"
    }
  },
  "cells": [
    {
      "cell_type": "code",
      "metadata": {
        "id": "E_NcdBesIHCu",
        "colab_type": "code",
        "colab": {
          "base_uri": "https://localhost:8080/",
          "height": 50
        },
        "outputId": "dc333eb0-0b92-4003-8a9d-3d64896b47de"
      },
      "source": [
        "userInputoriginal=int(input(\"enter a number to check if it's armstrong or not:\"))\n",
        "\n",
        "userInput=str(userInputoriginal)\n",
        "\n",
        "userInput=list(userInput)\n",
        "\n",
        "\n",
        "\n",
        "lengthUserInput=len(userInput)\n",
        "\n",
        "newList=[]\n",
        "for i in range(0,len(userInput)):\n",
        "  userInput[i]=int(userInput[i])\n",
        "  userInput[i]=pow(userInput[i], 3)\n",
        "  newList.append(userInput[i])\n",
        "  \n",
        "\n",
        "summed=sum(newList)\n",
        "if userInputoriginal==summed:\n",
        "  print(\"congrats, you have chosen a armstrong number\")\n",
        "else:\n",
        "  print(\"not a armstrong number\")\n",
        "\n",
        "  \n",
        "\n",
        "\n",
        "\n",
        "\n"
      ],
      "execution_count": 21,
      "outputs": [
        {
          "output_type": "stream",
          "text": [
            "enter a number to check if it's armstrong or not:408\n",
            "not a armstrong number\n"
          ],
          "name": "stdout"
        }
      ]
    },
    {
      "cell_type": "code",
      "metadata": {
        "id": "aHPHUbQzLO8q",
        "colab_type": "code",
        "colab": {
          "base_uri": "https://localhost:8080/",
          "height": 145
        },
        "outputId": "584d3e4f-aeb5-4721-a8d9-0801f87caec9"
      },
      "source": [
        "userInputoriginal=int(input(\"enter a number to check if it's palindrome or not:\"))\n",
        "\n",
        "\n",
        "userInput=str(userInputoriginal)\n",
        "userInput=list(userInput)\n",
        "\n",
        "lengthUserInput=len(userInput)\n",
        "\n",
        "if lengthUserInput%2==0:\n",
        "\n",
        "  for i in range(0,len(userInput)):\n",
        "    for j in range(1,(lengthUserInput+1)):\n",
        "\n",
        "      if userInput[i]==userInput[0-j]:\n",
        "        print(\"input number is palindrome\")\n",
        "        print(userInput[i])\n",
        "        print(userInput[0-j])\n",
        "        \n",
        "     \n",
        "        \n",
        "      else:\n",
        "        print(\"input number is not palindrome\")\n",
        "        print(userInput[i])\n",
        "        print(userInput[0-j])\n",
        "      break\n",
        "    \n",
        "      \n",
        "  \n",
        "        \n",
        "\n",
        "        \n",
        "else:\n",
        "  dividedLengthUserInput=lengthUserInput/2\n",
        "  halfAddeddividedLengthUserInput=int(dividedLengthUserInput+0.5)\n",
        "  listifiedHalfAddeddividedLengthUserInput=halfAddeddividedLengthUserInput-1\n",
        "  userInput.pop(listifiedHalfAddeddividedLengthUserInput)\n",
        "  print(userInput)\n",
        "  for i in range(0,len(userInput)):\n",
        "    for j in range(1,len(userInput)):\n",
        "      if userInput[i]==userInput[0-j]:\n",
        "        print(\"input number is palindrome\")\n",
        "      else:\n",
        "        print(\"input number is not palindrome\")\n"
      ],
      "execution_count": 45,
      "outputs": [
        {
          "output_type": "stream",
          "text": [
            "enter a number to check if it's palindrome or not:3663\n"
          ],
          "name": "stdout"
        },
        {
          "output_type": "error",
          "ename": "SyntaxError",
          "evalue": "ignored",
          "traceback": [
            "\u001b[0;36m  File \u001b[0;32m\"<ipython-input-45-8990b579dd41>\"\u001b[0;36m, line \u001b[0;32m27\u001b[0m\n\u001b[0;31m    break\u001b[0m\n\u001b[0m    ^\u001b[0m\n\u001b[0;31mSyntaxError\u001b[0m\u001b[0;31m:\u001b[0m 'break' outside loop\n"
          ]
        }
      ]
    },
    {
      "cell_type": "code",
      "metadata": {
        "id": "AD_2hflOOnN6",
        "colab_type": "code",
        "colab": {
          "base_uri": "https://localhost:8080/",
          "height": 128
        },
        "outputId": "a9f2db44-294d-4f9b-cf76-c3e80c080331"
      },
      "source": [
        "userInputoriginal=int(input(\"enter a number to check if it's palindrome or not:\"))\n",
        "\n",
        "\n",
        "userInput=str(userInputoriginal)\n",
        "userInput=list(userInput)\n",
        "\n",
        "lengthUserInput=len(userInput)\n",
        "\n",
        "def palindromEven(inputList):\n",
        "  for i in range(0,len(inputList)):\n",
        "    for j in range(1,(len(inputList)+1)):\n",
        "      \n",
        "\n",
        "      if inputList[i]==inputList[0-j]:\n",
        "        print(\"input number is palindrome\")\n",
        "        print(inputList[i])\n",
        "        print(inputList[0-j])\n",
        "      \n",
        "        \n",
        "        \n",
        "     \n",
        "        \n",
        "      else:\n",
        "        print(\"input number is not palindrome\")\n",
        "        print(inputList[i])\n",
        "        print(inputList[0-j])\n",
        "      break\n",
        "\n",
        "def palindromOdd(inputList):\n",
        "  lengthInputList=len(inputList)\n",
        "  dividedLengthInputList=lengthInputList/2\n",
        "  halfAddeddividedLengthInputList=int(dividedLengthInputList+0.5)\n",
        "  listifiedHalfAddeddividedLengthInputList=halfAddeddividedLengthInputList-1\n",
        "  inputList.pop(listifiedHalfAddeddividedLengthInputList)\n",
        "  print(inputList)\n",
        "  for i in range(0,len(inputList)):\n",
        "    for j in range(1,len(inputList)):\n",
        "      if inputList[i]==inputList[0-j]:\n",
        "        print(\"input number is palindrome\")\n",
        "      else:\n",
        "        print(\"input number is not palindrome\")\n",
        "\n",
        "\n",
        "\n",
        "if lengthUserInput%2==0:\n",
        "  palindromEven(userInput)\n",
        "else:\n",
        "  palindromOdd(userInput)\n",
        "\n"
      ],
      "execution_count": 50,
      "outputs": [
        {
          "output_type": "error",
          "ename": "SyntaxError",
          "evalue": "ignored",
          "traceback": [
            "\u001b[0;36m  File \u001b[0;32m\"<ipython-input-50-f1b0917f4460>\"\u001b[0;36m, line \u001b[0;32m22\u001b[0m\n\u001b[0;31m    else:\u001b[0m\n\u001b[0m       ^\u001b[0m\n\u001b[0;31mSyntaxError\u001b[0m\u001b[0;31m:\u001b[0m invalid syntax\n"
          ]
        }
      ]
    },
    {
      "cell_type": "code",
      "metadata": {
        "id": "9Jl_x87CbOc1",
        "colab_type": "code",
        "colab": {
          "base_uri": "https://localhost:8080/",
          "height": 522
        },
        "outputId": "34cffcfb-dccb-4606-9436-6da361f2233d"
      },
      "source": [
        ""
      ],
      "execution_count": 51,
      "outputs": [
        {
          "output_type": "error",
          "ename": "KeyboardInterrupt",
          "evalue": "ignored",
          "traceback": [
            "\u001b[0;31m---------------------------------------------------------------------------\u001b[0m",
            "\u001b[0;31mKeyboardInterrupt\u001b[0m                         Traceback (most recent call last)",
            "\u001b[0;32m/usr/local/lib/python3.6/dist-packages/ipykernel/kernelbase.py\u001b[0m in \u001b[0;36m_input_request\u001b[0;34m(self, prompt, ident, parent, password)\u001b[0m\n\u001b[1;32m    728\u001b[0m             \u001b[0;32mtry\u001b[0m\u001b[0;34m:\u001b[0m\u001b[0;34m\u001b[0m\u001b[0;34m\u001b[0m\u001b[0m\n\u001b[0;32m--> 729\u001b[0;31m                 \u001b[0mident\u001b[0m\u001b[0;34m,\u001b[0m \u001b[0mreply\u001b[0m \u001b[0;34m=\u001b[0m \u001b[0mself\u001b[0m\u001b[0;34m.\u001b[0m\u001b[0msession\u001b[0m\u001b[0;34m.\u001b[0m\u001b[0mrecv\u001b[0m\u001b[0;34m(\u001b[0m\u001b[0mself\u001b[0m\u001b[0;34m.\u001b[0m\u001b[0mstdin_socket\u001b[0m\u001b[0;34m,\u001b[0m \u001b[0;36m0\u001b[0m\u001b[0;34m)\u001b[0m\u001b[0;34m\u001b[0m\u001b[0;34m\u001b[0m\u001b[0m\n\u001b[0m\u001b[1;32m    730\u001b[0m             \u001b[0;32mexcept\u001b[0m \u001b[0mException\u001b[0m\u001b[0;34m:\u001b[0m\u001b[0;34m\u001b[0m\u001b[0;34m\u001b[0m\u001b[0m\n",
            "\u001b[0;32m/usr/local/lib/python3.6/dist-packages/jupyter_client/session.py\u001b[0m in \u001b[0;36mrecv\u001b[0;34m(self, socket, mode, content, copy)\u001b[0m\n\u001b[1;32m    802\u001b[0m         \u001b[0;32mtry\u001b[0m\u001b[0;34m:\u001b[0m\u001b[0;34m\u001b[0m\u001b[0;34m\u001b[0m\u001b[0m\n\u001b[0;32m--> 803\u001b[0;31m             \u001b[0mmsg_list\u001b[0m \u001b[0;34m=\u001b[0m \u001b[0msocket\u001b[0m\u001b[0;34m.\u001b[0m\u001b[0mrecv_multipart\u001b[0m\u001b[0;34m(\u001b[0m\u001b[0mmode\u001b[0m\u001b[0;34m,\u001b[0m \u001b[0mcopy\u001b[0m\u001b[0;34m=\u001b[0m\u001b[0mcopy\u001b[0m\u001b[0;34m)\u001b[0m\u001b[0;34m\u001b[0m\u001b[0;34m\u001b[0m\u001b[0m\n\u001b[0m\u001b[1;32m    804\u001b[0m         \u001b[0;32mexcept\u001b[0m \u001b[0mzmq\u001b[0m\u001b[0;34m.\u001b[0m\u001b[0mZMQError\u001b[0m \u001b[0;32mas\u001b[0m \u001b[0me\u001b[0m\u001b[0;34m:\u001b[0m\u001b[0;34m\u001b[0m\u001b[0;34m\u001b[0m\u001b[0m\n",
            "\u001b[0;32m/usr/local/lib/python3.6/dist-packages/zmq/sugar/socket.py\u001b[0m in \u001b[0;36mrecv_multipart\u001b[0;34m(self, flags, copy, track)\u001b[0m\n\u001b[1;32m    490\u001b[0m         \"\"\"\n\u001b[0;32m--> 491\u001b[0;31m         \u001b[0mparts\u001b[0m \u001b[0;34m=\u001b[0m \u001b[0;34m[\u001b[0m\u001b[0mself\u001b[0m\u001b[0;34m.\u001b[0m\u001b[0mrecv\u001b[0m\u001b[0;34m(\u001b[0m\u001b[0mflags\u001b[0m\u001b[0;34m,\u001b[0m \u001b[0mcopy\u001b[0m\u001b[0;34m=\u001b[0m\u001b[0mcopy\u001b[0m\u001b[0;34m,\u001b[0m \u001b[0mtrack\u001b[0m\u001b[0;34m=\u001b[0m\u001b[0mtrack\u001b[0m\u001b[0;34m)\u001b[0m\u001b[0;34m]\u001b[0m\u001b[0;34m\u001b[0m\u001b[0;34m\u001b[0m\u001b[0m\n\u001b[0m\u001b[1;32m    492\u001b[0m         \u001b[0;31m# have first part already, only loop while more to receive\u001b[0m\u001b[0;34m\u001b[0m\u001b[0;34m\u001b[0m\u001b[0;34m\u001b[0m\u001b[0m\n",
            "\u001b[0;32mzmq/backend/cython/socket.pyx\u001b[0m in \u001b[0;36mzmq.backend.cython.socket.Socket.recv\u001b[0;34m()\u001b[0m\n",
            "\u001b[0;32mzmq/backend/cython/socket.pyx\u001b[0m in \u001b[0;36mzmq.backend.cython.socket.Socket.recv\u001b[0;34m()\u001b[0m\n",
            "\u001b[0;32mzmq/backend/cython/socket.pyx\u001b[0m in \u001b[0;36mzmq.backend.cython.socket._recv_copy\u001b[0;34m()\u001b[0m\n",
            "\u001b[0;32m/usr/local/lib/python3.6/dist-packages/zmq/backend/cython/checkrc.pxd\u001b[0m in \u001b[0;36mzmq.backend.cython.checkrc._check_rc\u001b[0;34m()\u001b[0m\n",
            "\u001b[0;31mKeyboardInterrupt\u001b[0m: ",
            "\nDuring handling of the above exception, another exception occurred:\n",
            "\u001b[0;31mKeyboardInterrupt\u001b[0m                         Traceback (most recent call last)",
            "\u001b[0;32m<ipython-input-51-a6bf367ca36b>\u001b[0m in \u001b[0;36m<module>\u001b[0;34m()\u001b[0m\n\u001b[1;32m      2\u001b[0m   \u001b[0;32mreturn\u001b[0m \u001b[0mlen\u001b[0m\u001b[0;34m(\u001b[0m\u001b[0mstr\u001b[0m\u001b[0;34m(\u001b[0m\u001b[0mabs\u001b[0m\u001b[0;34m(\u001b[0m\u001b[0mnum\u001b[0m\u001b[0;34m)\u001b[0m\u001b[0;34m)\u001b[0m\u001b[0;34m)\u001b[0m\u001b[0;34m\u001b[0m\u001b[0;34m\u001b[0m\u001b[0m\n\u001b[1;32m      3\u001b[0m \u001b[0;34m\u001b[0m\u001b[0m\n\u001b[0;32m----> 4\u001b[0;31m \u001b[0muserInputoriginal\u001b[0m\u001b[0;34m=\u001b[0m\u001b[0mint\u001b[0m\u001b[0;34m(\u001b[0m\u001b[0minput\u001b[0m\u001b[0;34m(\u001b[0m\u001b[0;34m\"enter a number to check if it's palindrome or not:\"\u001b[0m\u001b[0;34m)\u001b[0m\u001b[0;34m)\u001b[0m\u001b[0;34m\u001b[0m\u001b[0;34m\u001b[0m\u001b[0m\n\u001b[0m\u001b[1;32m      5\u001b[0m \u001b[0mlengthUserInputoriginal\u001b[0m\u001b[0;34m=\u001b[0m\u001b[0mnumLen\u001b[0m\u001b[0;34m(\u001b[0m\u001b[0muserInputoriginal\u001b[0m\u001b[0;34m)\u001b[0m\u001b[0;34m\u001b[0m\u001b[0;34m\u001b[0m\u001b[0m\n\u001b[1;32m      6\u001b[0m \u001b[0mhalvedLengthUserInputoriginal\u001b[0m\u001b[0;34m=\u001b[0m\u001b[0mlengthUserInputoriginal\u001b[0m\u001b[0;34m/\u001b[0m\u001b[0;36m2\u001b[0m\u001b[0;34m\u001b[0m\u001b[0;34m\u001b[0m\u001b[0m\n",
            "\u001b[0;32m/usr/local/lib/python3.6/dist-packages/ipykernel/kernelbase.py\u001b[0m in \u001b[0;36mraw_input\u001b[0;34m(self, prompt)\u001b[0m\n\u001b[1;32m    702\u001b[0m             \u001b[0mself\u001b[0m\u001b[0;34m.\u001b[0m\u001b[0m_parent_ident\u001b[0m\u001b[0;34m,\u001b[0m\u001b[0;34m\u001b[0m\u001b[0;34m\u001b[0m\u001b[0m\n\u001b[1;32m    703\u001b[0m             \u001b[0mself\u001b[0m\u001b[0;34m.\u001b[0m\u001b[0m_parent_header\u001b[0m\u001b[0;34m,\u001b[0m\u001b[0;34m\u001b[0m\u001b[0;34m\u001b[0m\u001b[0m\n\u001b[0;32m--> 704\u001b[0;31m             \u001b[0mpassword\u001b[0m\u001b[0;34m=\u001b[0m\u001b[0;32mFalse\u001b[0m\u001b[0;34m,\u001b[0m\u001b[0;34m\u001b[0m\u001b[0;34m\u001b[0m\u001b[0m\n\u001b[0m\u001b[1;32m    705\u001b[0m         )\n\u001b[1;32m    706\u001b[0m \u001b[0;34m\u001b[0m\u001b[0m\n",
            "\u001b[0;32m/usr/local/lib/python3.6/dist-packages/ipykernel/kernelbase.py\u001b[0m in \u001b[0;36m_input_request\u001b[0;34m(self, prompt, ident, parent, password)\u001b[0m\n\u001b[1;32m    732\u001b[0m             \u001b[0;32mexcept\u001b[0m \u001b[0mKeyboardInterrupt\u001b[0m\u001b[0;34m:\u001b[0m\u001b[0;34m\u001b[0m\u001b[0;34m\u001b[0m\u001b[0m\n\u001b[1;32m    733\u001b[0m                 \u001b[0;31m# re-raise KeyboardInterrupt, to truncate traceback\u001b[0m\u001b[0;34m\u001b[0m\u001b[0;34m\u001b[0m\u001b[0;34m\u001b[0m\u001b[0m\n\u001b[0;32m--> 734\u001b[0;31m                 \u001b[0;32mraise\u001b[0m \u001b[0mKeyboardInterrupt\u001b[0m\u001b[0;34m\u001b[0m\u001b[0;34m\u001b[0m\u001b[0m\n\u001b[0m\u001b[1;32m    735\u001b[0m             \u001b[0;32melse\u001b[0m\u001b[0;34m:\u001b[0m\u001b[0;34m\u001b[0m\u001b[0;34m\u001b[0m\u001b[0m\n\u001b[1;32m    736\u001b[0m                 \u001b[0;32mbreak\u001b[0m\u001b[0;34m\u001b[0m\u001b[0;34m\u001b[0m\u001b[0m\n",
            "\u001b[0;31mKeyboardInterrupt\u001b[0m: "
          ]
        }
      ]
    },
    {
      "cell_type": "code",
      "metadata": {
        "id": "BqBxFDPTeNKw",
        "colab_type": "code",
        "colab": {
          "base_uri": "https://localhost:8080/",
          "height": 50
        },
        "outputId": "5092eeb5-2b9a-4431-9d6d-f31fd3ee2629"
      },
      "source": [
        "userInputoriginal=int(input())\n",
        "userInput=str(userInputoriginal)\n",
        "userInput=list(userInput)\n",
        "userInput.reverse()\n",
        "print(userInput)\n",
        "\n"
      ],
      "execution_count": 57,
      "outputs": [
        {
          "output_type": "stream",
          "text": [
            "12345\n",
            "['5', '4', '3', '2', '1']\n"
          ],
          "name": "stdout"
        }
      ]
    },
    {
      "cell_type": "code",
      "metadata": {
        "id": "FW_biPSPgYOA",
        "colab_type": "code",
        "colab": {
          "base_uri": "https://localhost:8080/",
          "height": 84
        },
        "outputId": "df10ef69-d43e-410b-8eac-089f384ad38a"
      },
      "source": [
        "userInputoriginal=int(input(\"enter a number to check if it's palindrome or not:\"))\n",
        "\n",
        "\n",
        "userInput=str(userInputoriginal)\n",
        "userInput=list(userInput)\n",
        "\n",
        "userInput2breversed=userInput[:]\n",
        "\n",
        "userInput2breversed.reverse()\n",
        "print(userInput2breversed)\n",
        "\n",
        "\n",
        "for i in range(0,len(userInput2breversed)):\n",
        "  if userInput2breversed[i]==userInput[i]:\n",
        "    print(\"input is palindrome\")\n",
        "    print(i)\n",
        "    break\n",
        "  else:\n",
        "    print(\"input is not palindrome\")\n",
        "    print(i)\n",
        "    break"
      ],
      "execution_count": 78,
      "outputs": [
        {
          "output_type": "stream",
          "text": [
            "enter a number to check if it's palindrome or not:12345\n",
            "['5', '4', '3', '2', '1']\n",
            "input is not palindrome\n",
            "0\n"
          ],
          "name": "stdout"
        }
      ]
    },
    {
      "cell_type": "code",
      "metadata": {
        "id": "YzfJmibunMNU",
        "colab_type": "code",
        "colab": {
          "base_uri": "https://localhost:8080/",
          "height": 84
        },
        "outputId": "e33f9bd4-8996-4d74-897f-3d81ab7c353b"
      },
      "source": [
        "userInputoriginal=int(input(\"enter a number to check if it's palindrome or not:\"))\n",
        "\n",
        "\n",
        "userInput=str(userInputoriginal)\n",
        "userInput=list(userInput)\n",
        "\n",
        "userInput2breversed=userInput[:]\n",
        "\n",
        "userInput2breversed.reverse()\n",
        "\n",
        "myList=[]\n",
        "for i in range(0, len(userInput2breversed)): \n",
        "    userInput2breversed[i] = int(userInput2breversed[i]) \n",
        "    myList.append(userInput2breversed[i])\n",
        "\n",
        "# print(myList)\n",
        "\n",
        "def convert(list): \n",
        "      \n",
        "    # Converting integer list to string list \n",
        "    s = [str(i) for i in list] \n",
        "      \n",
        "    # Join list items using join() \n",
        "    res = int(\"\".join(s)) \n",
        "      \n",
        "    return(res) \n",
        "  \n",
        "reversedUserInput=convert(myList)\n",
        "# print(reversedUserInput) \n",
        "\n",
        "if reversedUserInput==userInputoriginal:\n",
        "  print(\"user inputted palindrome\")\n",
        "else:\n",
        "  print(\"user's input is not palindrome\")"
      ],
      "execution_count": 84,
      "outputs": [
        {
          "output_type": "stream",
          "text": [
            "enter a number to check if it's palindrome or not:3663\n",
            "[3, 6, 6, 3]\n",
            "3663\n",
            "user inputted palindrome\n"
          ],
          "name": "stdout"
        }
      ]
    }
  ]
}