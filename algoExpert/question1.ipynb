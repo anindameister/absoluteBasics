{
 "cells": [
  {
   "cell_type": "code",
   "execution_count": 1,
   "metadata": {},
   "outputs": [],
   "source": [
    "- write a function that takes in a non-empty array of distinct integers and an integer representing a target sum. \n",
    "If any two numbers in the input array sum up to the target sum, the function should return them in an array, in sorted order. \n",
    "If no two numbers sum up to the target sum, the function should return an empty array. \n",
    "Assume that there will be at most one pair of numbers summing upto the target sum.\n",
    "\n",
    "Sample input=[3,5,-4,8,11,1,-1,6],10\n",
    "Sample output[-1,11]"
   ]
  },
  {
   "cell_type": "code",
   "execution_count": 33,
   "metadata": {},
   "outputs": [],
   "source": [
    "def summation(list,integer):\n",
    "    if list==[]:\n",
    "        print(\"this is not allowed\")\n",
    "    else:\n",
    "        for i in range(0,len(list)):\n",
    "            if (list[0]+list[i]==10):\n",
    "                print(\"kudos\")\n",
    "            else:\n",
    "                print(\"0\",i,\"not happening\", \"trying next\")\n",
    "#                 continue\n",
    "            "
   ]
  },
  {
   "cell_type": "code",
   "execution_count": 34,
   "metadata": {},
   "outputs": [
    {
     "name": "stdout",
     "output_type": "stream",
     "text": [
      "0 0 not happening trying next\n",
      "0 1 not happening trying next\n",
      "0 2 not happening trying next\n",
      "0 3 not happening trying next\n",
      "0 4 not happening trying next\n",
      "0 5 not happening trying next\n",
      "0 6 not happening trying next\n",
      "0 7 not happening trying next\n"
     ]
    }
   ],
   "source": [
    "summation([3,5,-4,8,11,1,-1,6],10)"
   ]
  },
  {
   "cell_type": "code",
   "execution_count": 74,
   "metadata": {},
   "outputs": [],
   "source": [
    "def summation(list,integer):\n",
    "    if list==[]:\n",
    "        print(\"this is not allowed\")\n",
    "    else:\n",
    "        for i in range(0,len(list)):\n",
    "            for j in range(0,len(list)):\n",
    "                if (list[j]+list[i]==10):\n",
    "                    if i!=j:\n",
    "                        print(\"kudos\")\n",
    "                        print(j,i,\"happened, which are \",list[j],list[i])\n",
    "         \n",
    "                    \n",
    "                else:\n",
    "                    continue\n",
    "#                     print(j,i,\"not happening\", \"trying next\")\n",
    "                    "
   ]
  },
  {
   "cell_type": "code",
   "execution_count": 75,
   "metadata": {},
   "outputs": [
    {
     "name": "stdout",
     "output_type": "stream",
     "text": [
      "kudos\n",
      "6 4 happened, which are  -1 11\n",
      "kudos\n",
      "4 6 happened, which are  11 -1\n"
     ]
    }
   ],
   "source": [
    "summation([3,5,-4,8,11,1,-1,6],10)"
   ]
  },
  {
   "cell_type": "code",
   "execution_count": 54,
   "metadata": {},
   "outputs": [],
   "source": [
    "def summation(list,integer):\n",
    "    if list==[]:\n",
    "        print(\"this is not allowed\")\n",
    "    else:\n",
    "        for i in range(0,len(list)):\n",
    "            for j in range(0,len(list)):\n",
    "                if list[i+1]==None:\n",
    "                    print(\"Nothing at \",i+1)\n",
    "                elif (list[j]+list[i+1]==10):\n",
    "                    print(\"kudos\")\n",
    "                    print(j,i+1,\"happened, which are \",list[j],list[i+1])\n",
    "                elif (list[j]+list[i+1]!=10):\n",
    "                    print(j,i+1,\"not happening\", \"trying next\")\n",
    "                \n",
    "                \n",
    "            \n",
    "            "
   ]
  },
  {
   "cell_type": "code",
   "execution_count": 55,
   "metadata": {},
   "outputs": [
    {
     "name": "stdout",
     "output_type": "stream",
     "text": [
      "0 1 not happening trying next\n",
      "kudos\n",
      "1 1 happened, which are  5 5\n",
      "2 1 not happening trying next\n",
      "3 1 not happening trying next\n",
      "4 1 not happening trying next\n",
      "5 1 not happening trying next\n",
      "6 1 not happening trying next\n",
      "7 1 not happening trying next\n",
      "0 2 not happening trying next\n",
      "1 2 not happening trying next\n",
      "2 2 not happening trying next\n",
      "3 2 not happening trying next\n",
      "4 2 not happening trying next\n",
      "5 2 not happening trying next\n",
      "6 2 not happening trying next\n",
      "7 2 not happening trying next\n",
      "0 3 not happening trying next\n",
      "1 3 not happening trying next\n",
      "2 3 not happening trying next\n",
      "3 3 not happening trying next\n",
      "4 3 not happening trying next\n",
      "5 3 not happening trying next\n",
      "6 3 not happening trying next\n",
      "7 3 not happening trying next\n",
      "0 4 not happening trying next\n",
      "1 4 not happening trying next\n",
      "2 4 not happening trying next\n",
      "3 4 not happening trying next\n",
      "4 4 not happening trying next\n",
      "5 4 not happening trying next\n",
      "kudos\n",
      "6 4 happened, which are  -1 11\n",
      "7 4 not happening trying next\n",
      "0 5 not happening trying next\n",
      "1 5 not happening trying next\n",
      "2 5 not happening trying next\n",
      "3 5 not happening trying next\n",
      "4 5 not happening trying next\n",
      "5 5 not happening trying next\n",
      "6 5 not happening trying next\n",
      "7 5 not happening trying next\n",
      "0 6 not happening trying next\n",
      "1 6 not happening trying next\n",
      "2 6 not happening trying next\n",
      "3 6 not happening trying next\n",
      "kudos\n",
      "4 6 happened, which are  11 -1\n",
      "5 6 not happening trying next\n",
      "6 6 not happening trying next\n",
      "7 6 not happening trying next\n",
      "0 7 not happening trying next\n",
      "1 7 not happening trying next\n",
      "2 7 not happening trying next\n",
      "3 7 not happening trying next\n",
      "4 7 not happening trying next\n",
      "5 7 not happening trying next\n",
      "6 7 not happening trying next\n",
      "7 7 not happening trying next\n"
     ]
    },
    {
     "ename": "IndexError",
     "evalue": "list index out of range",
     "output_type": "error",
     "traceback": [
      "\u001b[1;31m---------------------------------------------------------------------------\u001b[0m",
      "\u001b[1;31mIndexError\u001b[0m                                Traceback (most recent call last)",
      "\u001b[1;32m<ipython-input-55-f18cd29998e3>\u001b[0m in \u001b[0;36m<module>\u001b[1;34m()\u001b[0m\n\u001b[1;32m----> 1\u001b[1;33m \u001b[0msummation\u001b[0m\u001b[1;33m(\u001b[0m\u001b[1;33m[\u001b[0m\u001b[1;36m3\u001b[0m\u001b[1;33m,\u001b[0m\u001b[1;36m5\u001b[0m\u001b[1;33m,\u001b[0m\u001b[1;33m-\u001b[0m\u001b[1;36m4\u001b[0m\u001b[1;33m,\u001b[0m\u001b[1;36m8\u001b[0m\u001b[1;33m,\u001b[0m\u001b[1;36m11\u001b[0m\u001b[1;33m,\u001b[0m\u001b[1;36m1\u001b[0m\u001b[1;33m,\u001b[0m\u001b[1;33m-\u001b[0m\u001b[1;36m1\u001b[0m\u001b[1;33m,\u001b[0m\u001b[1;36m6\u001b[0m\u001b[1;33m]\u001b[0m\u001b[1;33m,\u001b[0m\u001b[1;36m10\u001b[0m\u001b[1;33m)\u001b[0m\u001b[1;33m\u001b[0m\u001b[0m\n\u001b[0m",
      "\u001b[1;32m<ipython-input-54-8f0235dbe091>\u001b[0m in \u001b[0;36msummation\u001b[1;34m(list, integer)\u001b[0m\n\u001b[0;32m      5\u001b[0m         \u001b[1;32mfor\u001b[0m \u001b[0mi\u001b[0m \u001b[1;32min\u001b[0m \u001b[0mrange\u001b[0m\u001b[1;33m(\u001b[0m\u001b[1;36m0\u001b[0m\u001b[1;33m,\u001b[0m\u001b[0mlen\u001b[0m\u001b[1;33m(\u001b[0m\u001b[0mlist\u001b[0m\u001b[1;33m)\u001b[0m\u001b[1;33m)\u001b[0m\u001b[1;33m:\u001b[0m\u001b[1;33m\u001b[0m\u001b[0m\n\u001b[0;32m      6\u001b[0m             \u001b[1;32mfor\u001b[0m \u001b[0mj\u001b[0m \u001b[1;32min\u001b[0m \u001b[0mrange\u001b[0m\u001b[1;33m(\u001b[0m\u001b[1;36m0\u001b[0m\u001b[1;33m,\u001b[0m\u001b[0mlen\u001b[0m\u001b[1;33m(\u001b[0m\u001b[0mlist\u001b[0m\u001b[1;33m)\u001b[0m\u001b[1;33m)\u001b[0m\u001b[1;33m:\u001b[0m\u001b[1;33m\u001b[0m\u001b[0m\n\u001b[1;32m----> 7\u001b[1;33m                 \u001b[1;32mif\u001b[0m \u001b[0mlist\u001b[0m\u001b[1;33m[\u001b[0m\u001b[0mi\u001b[0m\u001b[1;33m+\u001b[0m\u001b[1;36m1\u001b[0m\u001b[1;33m]\u001b[0m\u001b[1;33m==\u001b[0m\u001b[1;32mNone\u001b[0m\u001b[1;33m:\u001b[0m\u001b[1;33m\u001b[0m\u001b[0m\n\u001b[0m\u001b[0;32m      8\u001b[0m                     \u001b[0mprint\u001b[0m\u001b[1;33m(\u001b[0m\u001b[1;34m\"Nothing at \"\u001b[0m\u001b[1;33m,\u001b[0m\u001b[0mi\u001b[0m\u001b[1;33m+\u001b[0m\u001b[1;36m1\u001b[0m\u001b[1;33m)\u001b[0m\u001b[1;33m\u001b[0m\u001b[0m\n\u001b[0;32m      9\u001b[0m                 \u001b[1;32melif\u001b[0m \u001b[1;33m(\u001b[0m\u001b[0mlist\u001b[0m\u001b[1;33m[\u001b[0m\u001b[0mj\u001b[0m\u001b[1;33m]\u001b[0m\u001b[1;33m+\u001b[0m\u001b[0mlist\u001b[0m\u001b[1;33m[\u001b[0m\u001b[0mi\u001b[0m\u001b[1;33m+\u001b[0m\u001b[1;36m1\u001b[0m\u001b[1;33m]\u001b[0m\u001b[1;33m==\u001b[0m\u001b[1;36m10\u001b[0m\u001b[1;33m)\u001b[0m\u001b[1;33m:\u001b[0m\u001b[1;33m\u001b[0m\u001b[0m\n",
      "\u001b[1;31mIndexError\u001b[0m: list index out of range"
     ]
    }
   ],
   "source": [
    "summation([3,5,-4,8,11,1,-1,6],10)"
   ]
  },
  {
   "cell_type": "code",
   "execution_count": 78,
   "metadata": {},
   "outputs": [],
   "source": [
    "def summation(list,integer):\n",
    "    if list==[]:\n",
    "        print(\"this is not allowed\")\n",
    "    else:\n",
    "        for i in range(0,len(list)):\n",
    "            for j in range(0,len(list)):\n",
    "                if (list[i]+list[j]==10):\n",
    "                    if i!=j:\n",
    "                        print(\"kudos\")\n",
    "                        print(i,j,\"happened, which are \",list[i],list[j])\n",
    "                        if list[i]>list[j]:\n",
    "                            print(\"the sorted version is [\",list[j],list[i],\"]\")\n",
    "                            \n",
    "                        else:\n",
    "                            print(\"the sorted version is [\",list[i],list[j],\"]\")\n",
    "                            \n",
    "                            \n",
    "         \n",
    "                    \n",
    "                else:\n",
    "                    continue"
   ]
  },
  {
   "cell_type": "code",
   "execution_count": 79,
   "metadata": {},
   "outputs": [
    {
     "name": "stdout",
     "output_type": "stream",
     "text": [
      "kudos\n",
      "4 6 happened, which are  11 -1\n",
      "the sorted version is [ -1 11 ]\n",
      "kudos\n",
      "6 4 happened, which are  -1 11\n",
      "the sorted version is [ -1 11 ]\n"
     ]
    }
   ],
   "source": [
    "summation([3,5,-4,8,11,1,-1,6],10)"
   ]
  },
  {
   "cell_type": "code",
   "execution_count": null,
   "metadata": {},
   "outputs": [],
   "source": []
  }
 ],
 "metadata": {
  "kernelspec": {
   "display_name": "Python 3",
   "language": "python",
   "name": "python3"
  },
  "language_info": {
   "codemirror_mode": {
    "name": "ipython",
    "version": 3
   },
   "file_extension": ".py",
   "mimetype": "text/x-python",
   "name": "python",
   "nbconvert_exporter": "python",
   "pygments_lexer": "ipython3",
   "version": "3.6.4"
  }
 },
 "nbformat": 4,
 "nbformat_minor": 2
}
